{
 "cells": [
  {
   "cell_type": "code",
   "execution_count": 9,
   "metadata": {},
   "outputs": [],
   "source": [
    "import pandas as pd\n",
    "import numpy as np\n",
    "from datetime import datetime"
   ]
  },
  {
   "cell_type": "code",
   "execution_count": 10,
   "metadata": {},
   "outputs": [
    {
     "name": "stdout",
     "output_type": "stream",
     "text": [
      "<bound method NDFrame.describe of        First Name   Last Name                       Email Application Date  \\\n",
      "0      Bernadette   Langworth         leonard91@yahoo.com       2021-02-26   \n",
      "1          Camryn    Reynolds         zelda56@hotmail.com       2021-09-09   \n",
      "2           Larue      Spinka    okey_schultz41@gmail.com       2020-04-14   \n",
      "3            Arch      Spinka      elvera_kulas@yahoo.com       2020-10-01   \n",
      "4           Larue  Altenwerth   minnie.gislason@gmail.com       2020-05-20   \n",
      "...           ...         ...                         ...              ...   \n",
      "49995     Bethany     Shields  rocky_mitchell@hotmail.com       2022-01-09   \n",
      "49996         Era  Swaniawski    dolores.roob@hotmail.com       2020-06-02   \n",
      "49997      Martin       Lakin   savanah.stracke@gmail.com       2018-12-15   \n",
      "49998       Aliya   Abernathy  vivienne.fritsch@yahoo.com       2020-05-30   \n",
      "49999     Coleman      Wisozk   abigayle.crooks@yahoo.com       2022-06-13   \n",
      "\n",
      "                  Country  YOE  Seniority                         Technology  \\\n",
      "0                  Norway    2     Intern                      Data Engineer   \n",
      "1                  Panama   10     Intern                      Data Engineer   \n",
      "2                 Belarus    4  Mid-Level                     Client Success   \n",
      "3                 Eritrea   25    Trainee                          QA Manual   \n",
      "4                 Myanmar   13  Mid-Level  Social Media Community Management   \n",
      "...                   ...  ...        ...                                ...   \n",
      "49995  Dominican Republic   27    Trainee                           Security   \n",
      "49996             Morocco   21       Lead                   Game Development   \n",
      "49997              Uganda   20    Trainee              System Administration   \n",
      "49998      Czech Republic   20     Senior            Database Administration   \n",
      "49999               Palau   15     Intern                           Mulesoft   \n",
      "\n",
      "       Code Challenge Score  Technical Interview Score  \n",
      "0                         3                          3  \n",
      "1                         2                         10  \n",
      "2                        10                          9  \n",
      "3                         7                          1  \n",
      "4                         9                          7  \n",
      "...                     ...                        ...  \n",
      "49995                     2                          1  \n",
      "49996                     1                          2  \n",
      "49997                     6                          1  \n",
      "49998                     0                          0  \n",
      "49999                     3                          1  \n",
      "\n",
      "[50000 rows x 10 columns]>\n"
     ]
    }
   ],
   "source": [
    "csv = (\"../data/candidates.csv\")\n",
    "df = pd.read_csv(csv, delimiter=';')\n",
    "print(df.describe)"
   ]
  },
  {
   "cell_type": "code",
   "execution_count": null,
   "metadata": {},
   "outputs": [
    {
     "ename": "KeyError",
     "evalue": "'Technical Score'",
     "output_type": "error",
     "traceback": [
      "\u001b[1;31m---------------------------------------------------------------------------\u001b[0m",
      "\u001b[1;31mKeyError\u001b[0m                                  Traceback (most recent call last)",
      "File \u001b[1;32mc:\\Users\\kevin\\OneDrive\\Documentos\\GitHub\\WorkShop-1\\.conda\\Lib\\site-packages\\pandas\\core\\indexes\\base.py:3805\u001b[0m, in \u001b[0;36mIndex.get_loc\u001b[1;34m(self, key)\u001b[0m\n\u001b[0;32m   3804\u001b[0m \u001b[38;5;28;01mtry\u001b[39;00m:\n\u001b[1;32m-> 3805\u001b[0m     \u001b[38;5;28;01mreturn\u001b[39;00m \u001b[38;5;28;43mself\u001b[39;49m\u001b[38;5;241;43m.\u001b[39;49m\u001b[43m_engine\u001b[49m\u001b[38;5;241;43m.\u001b[39;49m\u001b[43mget_loc\u001b[49m\u001b[43m(\u001b[49m\u001b[43mcasted_key\u001b[49m\u001b[43m)\u001b[49m\n\u001b[0;32m   3806\u001b[0m \u001b[38;5;28;01mexcept\u001b[39;00m \u001b[38;5;167;01mKeyError\u001b[39;00m \u001b[38;5;28;01mas\u001b[39;00m err:\n",
      "File \u001b[1;32mindex.pyx:167\u001b[0m, in \u001b[0;36mpandas._libs.index.IndexEngine.get_loc\u001b[1;34m()\u001b[0m\n",
      "File \u001b[1;32mindex.pyx:196\u001b[0m, in \u001b[0;36mpandas._libs.index.IndexEngine.get_loc\u001b[1;34m()\u001b[0m\n",
      "File \u001b[1;32mpandas\\\\_libs\\\\hashtable_class_helper.pxi:7081\u001b[0m, in \u001b[0;36mpandas._libs.hashtable.PyObjectHashTable.get_item\u001b[1;34m()\u001b[0m\n",
      "File \u001b[1;32mpandas\\\\_libs\\\\hashtable_class_helper.pxi:7089\u001b[0m, in \u001b[0;36mpandas._libs.hashtable.PyObjectHashTable.get_item\u001b[1;34m()\u001b[0m\n",
      "\u001b[1;31mKeyError\u001b[0m: 'Technical Score'",
      "\nThe above exception was the direct cause of the following exception:\n",
      "\u001b[1;31mKeyError\u001b[0m                                  Traceback (most recent call last)",
      "Cell \u001b[1;32mIn[15], line 8\u001b[0m\n\u001b[0;32m      5\u001b[0m df_2022 \u001b[38;5;241m=\u001b[39m df[df[\u001b[38;5;124m\"\u001b[39m\u001b[38;5;124mApplication Date\u001b[39m\u001b[38;5;124m\"\u001b[39m]\u001b[38;5;241m.\u001b[39mdt\u001b[38;5;241m.\u001b[39myear \u001b[38;5;241m==\u001b[39m \u001b[38;5;241m2022\u001b[39m]\n\u001b[0;32m      7\u001b[0m \u001b[38;5;66;03m# Filtrar los que tienen puntajes ≥ 7 en ambas evaluaciones\u001b[39;00m\n\u001b[1;32m----> 8\u001b[0m contratados_2022 \u001b[38;5;241m=\u001b[39m df_2022[(\u001b[43mdf_2022\u001b[49m\u001b[43m[\u001b[49m\u001b[38;5;124;43m\"\u001b[39;49m\u001b[38;5;124;43mTechnical Score\u001b[39;49m\u001b[38;5;124;43m\"\u001b[39;49m\u001b[43m]\u001b[49m \u001b[38;5;241m>\u001b[39m\u001b[38;5;241m=\u001b[39m \u001b[38;5;241m7\u001b[39m) \u001b[38;5;241m&\u001b[39m (df_2022[\u001b[38;5;124m\"\u001b[39m\u001b[38;5;124mInterview Score\u001b[39m\u001b[38;5;124m\"\u001b[39m] \u001b[38;5;241m>\u001b[39m\u001b[38;5;241m=\u001b[39m \u001b[38;5;241m7\u001b[39m)]\n\u001b[0;32m     10\u001b[0m \u001b[38;5;66;03m# Contar el número de registros que cumplen la condición\u001b[39;00m\n\u001b[0;32m     11\u001b[0m num_contratados_2022 \u001b[38;5;241m=\u001b[39m \u001b[38;5;28mlen\u001b[39m(contratados_2022)\n",
      "File \u001b[1;32mc:\\Users\\kevin\\OneDrive\\Documentos\\GitHub\\WorkShop-1\\.conda\\Lib\\site-packages\\pandas\\core\\frame.py:4102\u001b[0m, in \u001b[0;36mDataFrame.__getitem__\u001b[1;34m(self, key)\u001b[0m\n\u001b[0;32m   4100\u001b[0m \u001b[38;5;28;01mif\u001b[39;00m \u001b[38;5;28mself\u001b[39m\u001b[38;5;241m.\u001b[39mcolumns\u001b[38;5;241m.\u001b[39mnlevels \u001b[38;5;241m>\u001b[39m \u001b[38;5;241m1\u001b[39m:\n\u001b[0;32m   4101\u001b[0m     \u001b[38;5;28;01mreturn\u001b[39;00m \u001b[38;5;28mself\u001b[39m\u001b[38;5;241m.\u001b[39m_getitem_multilevel(key)\n\u001b[1;32m-> 4102\u001b[0m indexer \u001b[38;5;241m=\u001b[39m \u001b[38;5;28;43mself\u001b[39;49m\u001b[38;5;241;43m.\u001b[39;49m\u001b[43mcolumns\u001b[49m\u001b[38;5;241;43m.\u001b[39;49m\u001b[43mget_loc\u001b[49m\u001b[43m(\u001b[49m\u001b[43mkey\u001b[49m\u001b[43m)\u001b[49m\n\u001b[0;32m   4103\u001b[0m \u001b[38;5;28;01mif\u001b[39;00m is_integer(indexer):\n\u001b[0;32m   4104\u001b[0m     indexer \u001b[38;5;241m=\u001b[39m [indexer]\n",
      "File \u001b[1;32mc:\\Users\\kevin\\OneDrive\\Documentos\\GitHub\\WorkShop-1\\.conda\\Lib\\site-packages\\pandas\\core\\indexes\\base.py:3812\u001b[0m, in \u001b[0;36mIndex.get_loc\u001b[1;34m(self, key)\u001b[0m\n\u001b[0;32m   3807\u001b[0m     \u001b[38;5;28;01mif\u001b[39;00m \u001b[38;5;28misinstance\u001b[39m(casted_key, \u001b[38;5;28mslice\u001b[39m) \u001b[38;5;129;01mor\u001b[39;00m (\n\u001b[0;32m   3808\u001b[0m         \u001b[38;5;28misinstance\u001b[39m(casted_key, abc\u001b[38;5;241m.\u001b[39mIterable)\n\u001b[0;32m   3809\u001b[0m         \u001b[38;5;129;01mand\u001b[39;00m \u001b[38;5;28many\u001b[39m(\u001b[38;5;28misinstance\u001b[39m(x, \u001b[38;5;28mslice\u001b[39m) \u001b[38;5;28;01mfor\u001b[39;00m x \u001b[38;5;129;01min\u001b[39;00m casted_key)\n\u001b[0;32m   3810\u001b[0m     ):\n\u001b[0;32m   3811\u001b[0m         \u001b[38;5;28;01mraise\u001b[39;00m InvalidIndexError(key)\n\u001b[1;32m-> 3812\u001b[0m     \u001b[38;5;28;01mraise\u001b[39;00m \u001b[38;5;167;01mKeyError\u001b[39;00m(key) \u001b[38;5;28;01mfrom\u001b[39;00m\u001b[38;5;250m \u001b[39m\u001b[38;5;21;01merr\u001b[39;00m\n\u001b[0;32m   3813\u001b[0m \u001b[38;5;28;01mexcept\u001b[39;00m \u001b[38;5;167;01mTypeError\u001b[39;00m:\n\u001b[0;32m   3814\u001b[0m     \u001b[38;5;66;03m# If we have a listlike key, _check_indexing_error will raise\u001b[39;00m\n\u001b[0;32m   3815\u001b[0m     \u001b[38;5;66;03m#  InvalidIndexError. Otherwise we fall through and re-raise\u001b[39;00m\n\u001b[0;32m   3816\u001b[0m     \u001b[38;5;66;03m#  the TypeError.\u001b[39;00m\n\u001b[0;32m   3817\u001b[0m     \u001b[38;5;28mself\u001b[39m\u001b[38;5;241m.\u001b[39m_check_indexing_error(key)\n",
      "\u001b[1;31mKeyError\u001b[0m: 'Technical Score'"
     ]
    }
   ],
   "source": [
    "# Asegurar que la columna de fecha esté en formato datetime\n",
    "df[\"Application Date\"] = pd.to_datetime(df[\"Application Date\"])\n",
    "# Contar los registros del año 2022\n",
    "# Filtrar los datos del año 2022\n",
    "df_2022 = df[df[\"Application Date\"].dt.year == 2022]\n",
    "\n",
    "# Filtrar los que tienen puntajes ≥ 7 en ambas evaluaciones\n",
    "contratados_2022 = df_2022[(df_2022[\"Code Challenge Score\"] >= 7) & (df_2022[\"Technical Interview Score\"] >= 7)]\n",
    "\n",
    "# Contar el número de registros que cumplen la condición\n",
    "num_contratados_2022 = len(contratados_2022)\n",
    "\n",
    "print(f\"Número de contratados en 2022 con calificaciones de 7 o más: {num_contratados_2022}\")\n"
   ]
  },
  {
   "cell_type": "code",
   "execution_count": null,
   "metadata": {},
   "outputs": [
    {
     "name": "stdout",
     "output_type": "stream",
     "text": [
      "<bound method NDFrame.head of       Application Date             Country  YOE  Seniority  \\\n",
      "0           2021-02-26              Norway    2     Intern   \n",
      "1           2021-09-09              Panama   10     Intern   \n",
      "2           2020-04-14             Belarus    4  Mid-Level   \n",
      "3           2020-10-01             Eritrea   25    Trainee   \n",
      "4           2020-05-20             Myanmar   13  Mid-Level   \n",
      "...                ...                 ...  ...        ...   \n",
      "49995       2022-01-09  Dominican Republic   27    Trainee   \n",
      "49996       2020-06-02             Morocco   21       Lead   \n",
      "49997       2018-12-15              Uganda   20    Trainee   \n",
      "49998       2020-05-30      Czech Republic   20     Senior   \n",
      "49999       2022-06-13               Palau   15     Intern   \n",
      "\n",
      "                              Technology  Code Challenge Score  \\\n",
      "0                          Data Engineer                     3   \n",
      "1                          Data Engineer                     2   \n",
      "2                         Client Success                    10   \n",
      "3                              QA Manual                     7   \n",
      "4      Social Media Community Management                     9   \n",
      "...                                  ...                   ...   \n",
      "49995                           Security                     2   \n",
      "49996                   Game Development                     1   \n",
      "49997              System Administration                     6   \n",
      "49998            Database Administration                     0   \n",
      "49999                           Mulesoft                     3   \n",
      "\n",
      "       Technical Interview Score  approved  \n",
      "0                              3     False  \n",
      "1                             10     False  \n",
      "2                              9      True  \n",
      "3                              1     False  \n",
      "4                              7     False  \n",
      "...                          ...       ...  \n",
      "49995                          1     False  \n",
      "49996                          2     False  \n",
      "49997                          1     False  \n",
      "49998                          0     False  \n",
      "49999                          1     False  \n",
      "\n",
      "[50000 rows x 8 columns]>\n"
     ]
    }
   ],
   "source": [
    "df = df.replace(r'^\\s*$', np.nan, regex=True)\n",
    "\n",
    "\n",
    "df = df.dropna(how=\"all\")\n",
    "\n",
    "df[\"Application Date\"] = pd.to_datetime(df[\"Application Date\"])\n",
    "\n",
    "df[\"approved\"] = (df[\"Code Challenge Score\"] > 7) & (df[\"Technical Interview Score\"] > 7)\n",
    "\n",
    "# Convertir a valores booleanos (True o False)\n",
    "df[\"approved\"] = df[\"approved\"].astype(bool)\n",
    "\n",
    "#eliminamos las columnas que no necesitamos\n",
    "columnas_eliminar = [\"First Name\", \"Last Name\", \"Email\"]\n",
    "df = df.drop(columns=[col for col in columnas_eliminar if col in df.columns])\n",
    "\n",
    "print(df.head)\n"
   ]
  },
  {
   "cell_type": "code",
   "execution_count": null,
   "metadata": {},
   "outputs": [],
   "source": [
    "\n",
    "df.to_csv(\"../data/candidates_clean.csv\", index=False, na_rep=\"NULL\")"
   ]
  }
 ],
 "metadata": {
  "kernelspec": {
   "display_name": ".conda",
   "language": "python",
   "name": "python3"
  },
  "language_info": {
   "codemirror_mode": {
    "name": "ipython",
    "version": 3
   },
   "file_extension": ".py",
   "mimetype": "text/x-python",
   "name": "python",
   "nbconvert_exporter": "python",
   "pygments_lexer": "ipython3",
   "version": "3.11.11"
  }
 },
 "nbformat": 4,
 "nbformat_minor": 2
}
