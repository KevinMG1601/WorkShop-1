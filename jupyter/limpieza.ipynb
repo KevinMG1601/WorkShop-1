{
 "cells": [
  {
   "cell_type": "code",
   "execution_count": 9,
   "metadata": {},
   "outputs": [],
   "source": [
    "import pandas as pd\n",
    "import numpy as np\n",
    "from datetime import datetime"
   ]
  },
  {
   "cell_type": "code",
   "execution_count": 10,
   "metadata": {},
   "outputs": [
    {
     "name": "stdout",
     "output_type": "stream",
     "text": [
      "<bound method NDFrame.describe of        First Name   Last Name                       Email Application Date  \\\n",
      "0      Bernadette   Langworth         leonard91@yahoo.com       2021-02-26   \n",
      "1          Camryn    Reynolds         zelda56@hotmail.com       2021-09-09   \n",
      "2           Larue      Spinka    okey_schultz41@gmail.com       2020-04-14   \n",
      "3            Arch      Spinka      elvera_kulas@yahoo.com       2020-10-01   \n",
      "4           Larue  Altenwerth   minnie.gislason@gmail.com       2020-05-20   \n",
      "...           ...         ...                         ...              ...   \n",
      "49995     Bethany     Shields  rocky_mitchell@hotmail.com       2022-01-09   \n",
      "49996         Era  Swaniawski    dolores.roob@hotmail.com       2020-06-02   \n",
      "49997      Martin       Lakin   savanah.stracke@gmail.com       2018-12-15   \n",
      "49998       Aliya   Abernathy  vivienne.fritsch@yahoo.com       2020-05-30   \n",
      "49999     Coleman      Wisozk   abigayle.crooks@yahoo.com       2022-06-13   \n",
      "\n",
      "                  Country  YOE  Seniority                         Technology  \\\n",
      "0                  Norway    2     Intern                      Data Engineer   \n",
      "1                  Panama   10     Intern                      Data Engineer   \n",
      "2                 Belarus    4  Mid-Level                     Client Success   \n",
      "3                 Eritrea   25    Trainee                          QA Manual   \n",
      "4                 Myanmar   13  Mid-Level  Social Media Community Management   \n",
      "...                   ...  ...        ...                                ...   \n",
      "49995  Dominican Republic   27    Trainee                           Security   \n",
      "49996             Morocco   21       Lead                   Game Development   \n",
      "49997              Uganda   20    Trainee              System Administration   \n",
      "49998      Czech Republic   20     Senior            Database Administration   \n",
      "49999               Palau   15     Intern                           Mulesoft   \n",
      "\n",
      "       Code Challenge Score  Technical Interview Score  \n",
      "0                         3                          3  \n",
      "1                         2                         10  \n",
      "2                        10                          9  \n",
      "3                         7                          1  \n",
      "4                         9                          7  \n",
      "...                     ...                        ...  \n",
      "49995                     2                          1  \n",
      "49996                     1                          2  \n",
      "49997                     6                          1  \n",
      "49998                     0                          0  \n",
      "49999                     3                          1  \n",
      "\n",
      "[50000 rows x 10 columns]>\n"
     ]
    }
   ],
   "source": [
    "csv = (\"../data/candidates.csv\")\n",
    "df = pd.read_csv(csv, delimiter=';')\n",
    "print(df.describe)"
   ]
  },
  {
   "cell_type": "code",
   "execution_count": 11,
   "metadata": {},
   "outputs": [
    {
     "name": "stdout",
     "output_type": "stream",
     "text": [
      "['First Name', 'Last Name', 'Email', 'Application Date', 'Country', 'YOE', 'Seniority', 'Technology', 'Code Challenge Score', 'Technical Interview Score']\n"
     ]
    }
   ],
   "source": [
    "print(df.columns.tolist())"
   ]
  },
  {
   "cell_type": "code",
   "execution_count": 12,
   "metadata": {},
   "outputs": [
    {
     "name": "stdout",
     "output_type": "stream",
     "text": [
      "<bound method NDFrame.head of       Application Date             Country  YOE  Seniority  \\\n",
      "0           2021-02-26              Norway    2     Intern   \n",
      "1           2021-09-09              Panama   10     Intern   \n",
      "2           2020-04-14             Belarus    4  Mid-Level   \n",
      "3           2020-10-01             Eritrea   25    Trainee   \n",
      "4           2020-05-20             Myanmar   13  Mid-Level   \n",
      "...                ...                 ...  ...        ...   \n",
      "49995       2022-01-09  Dominican Republic   27    Trainee   \n",
      "49996       2020-06-02             Morocco   21       Lead   \n",
      "49997       2018-12-15              Uganda   20    Trainee   \n",
      "49998       2020-05-30      Czech Republic   20     Senior   \n",
      "49999       2022-06-13               Palau   15     Intern   \n",
      "\n",
      "                              Technology  Code Challenge Score  \\\n",
      "0                          Data Engineer                     3   \n",
      "1                          Data Engineer                     2   \n",
      "2                         Client Success                    10   \n",
      "3                              QA Manual                     7   \n",
      "4      Social Media Community Management                     9   \n",
      "...                                  ...                   ...   \n",
      "49995                           Security                     2   \n",
      "49996                   Game Development                     1   \n",
      "49997              System Administration                     6   \n",
      "49998            Database Administration                     0   \n",
      "49999                           Mulesoft                     3   \n",
      "\n",
      "       Technical Interview Score  approved  \n",
      "0                              3     False  \n",
      "1                             10     False  \n",
      "2                              9      True  \n",
      "3                              1     False  \n",
      "4                              7     False  \n",
      "...                          ...       ...  \n",
      "49995                          1     False  \n",
      "49996                          2     False  \n",
      "49997                          1     False  \n",
      "49998                          0     False  \n",
      "49999                          1     False  \n",
      "\n",
      "[50000 rows x 8 columns]>\n"
     ]
    }
   ],
   "source": [
    "df = df.replace(r'^\\s*$', np.nan, regex=True)\n",
    "\n",
    "\n",
    "df = df.dropna(how=\"all\")\n",
    "\n",
    "df[\"Application Date\"] = pd.to_datetime(df[\"Application Date\"])\n",
    "\n",
    "df[\"approved\"] = (df[\"Code Challenge Score\"] > 7) & (df[\"Technical Interview Score\"] > 7)\n",
    "\n",
    "# Convertir a valores booleanos (True o False)\n",
    "df[\"approved\"] = df[\"approved\"].astype(bool)\n",
    "\n",
    "#eliminamos las columnas que no necesitamos\n",
    "columnas_eliminar = [\"First Name\", \"Last Name\", \"Email\"]\n",
    "df = df.drop(columns=[col for col in columnas_eliminar if col in df.columns])\n",
    "\n",
    "print(df.head)\n"
   ]
  },
  {
   "cell_type": "code",
   "execution_count": 13,
   "metadata": {},
   "outputs": [],
   "source": [
    "\n",
    "df.to_csv(\"../data/candidates_clean.csv\", index=False, na_rep=\"NULL\")"
   ]
  }
 ],
 "metadata": {
  "kernelspec": {
   "display_name": ".conda",
   "language": "python",
   "name": "python3"
  },
  "language_info": {
   "codemirror_mode": {
    "name": "ipython",
    "version": 3
   },
   "file_extension": ".py",
   "mimetype": "text/x-python",
   "name": "python",
   "nbconvert_exporter": "python",
   "pygments_lexer": "ipython3",
   "version": "3.11.11"
  }
 },
 "nbformat": 4,
 "nbformat_minor": 2
}
