{
 "cells": [
  {
   "cell_type": "markdown",
   "metadata": {},
   "source": [
    "LIBRERIAS NECESARIAS "
   ]
  },
  {
   "cell_type": "code",
   "execution_count": 9,
   "metadata": {},
   "outputs": [],
   "source": [
    "import pandas as pd\n",
    "import pymysql\n",
    "from sqlalchemy import create_engine, Column, Integer, String, Float, Date, Boolean\n",
    "from sqlalchemy.orm import declarative_base, sessionmaker\n",
    "from dotenv import load_dotenv\n",
    "import os"
   ]
  },
  {
   "cell_type": "code",
   "execution_count": 10,
   "metadata": {},
   "outputs": [
    {
     "name": "stdout",
     "output_type": "stream",
     "text": [
      "<bound method NDFrame.head of       Application Date             Country  YOE  Seniority  \\\n",
      "0           2021-02-26              Norway    2     Intern   \n",
      "1           2021-09-09              Panama   10     Intern   \n",
      "2           2020-04-14             Belarus    4  Mid-Level   \n",
      "3           2020-10-01             Eritrea   25    Trainee   \n",
      "4           2020-05-20             Myanmar   13  Mid-Level   \n",
      "...                ...                 ...  ...        ...   \n",
      "49995       2022-01-09  Dominican Republic   27    Trainee   \n",
      "49996       2020-06-02             Morocco   21       Lead   \n",
      "49997       2018-12-15              Uganda   20    Trainee   \n",
      "49998       2020-05-30      Czech Republic   20     Senior   \n",
      "49999       2022-06-13               Palau   15     Intern   \n",
      "\n",
      "                              Technology  Code Challenge Score  \\\n",
      "0                          Data Engineer                     3   \n",
      "1                          Data Engineer                     2   \n",
      "2                         Client Success                    10   \n",
      "3                              QA Manual                     7   \n",
      "4      Social Media Community Management                     9   \n",
      "...                                  ...                   ...   \n",
      "49995                           Security                     2   \n",
      "49996                   Game Development                     1   \n",
      "49997              System Administration                     6   \n",
      "49998            Database Administration                     0   \n",
      "49999                           Mulesoft                     3   \n",
      "\n",
      "       Technical Interview Score  approved  \n",
      "0                              3     False  \n",
      "1                             10     False  \n",
      "2                              9      True  \n",
      "3                              1     False  \n",
      "4                              7     False  \n",
      "...                          ...       ...  \n",
      "49995                          1     False  \n",
      "49996                          2     False  \n",
      "49997                          1     False  \n",
      "49998                          0     False  \n",
      "49999                          1     False  \n",
      "\n",
      "[50000 rows x 8 columns]>\n"
     ]
    }
   ],
   "source": [
    "csv = (\"../data/candidates_clean.csv\")\n",
    "df = pd.read_csv(csv, delimiter=',')\n",
    "print(df.head)"
   ]
  },
  {
   "cell_type": "code",
   "execution_count": 14,
   "metadata": {},
   "outputs": [
    {
     "name": "stdout",
     "output_type": "stream",
     "text": [
      "CONEXION EXITOSA\n"
     ]
    }
   ],
   "source": [
    "load_dotenv()\n",
    "\n",
    "USER = os.getenv(\"DB_USER\")\n",
    "PASSWORD = os.getenv(\"DB_PASSWORD\")\n",
    "HOST = os.getenv(\"DB_HOST\")\n",
    "DATABASE = os.getenv(\"DB\")\n",
    "\n",
    "engine = create_engine(f\"mysql+pymysql://{USER}:{PASSWORD}@{HOST}/{DATABASE}\")\n",
    "\n",
    "Base = declarative_base()\n",
    "\n",
    "class Candidate(Base):\n",
    "    __tablename__ = \"candidates\"\n",
    "    \n",
    "    id = Column(Integer, primary_key=True, autoincrement=True)\n",
    "    country = Column(String(50))\n",
    "    application_date = Column(Date)\n",
    "    yoe = Column(Float)\n",
    "    seniority = Column(String(50))\n",
    "    technology = Column(String(50))\n",
    "    code_challenge_score = Column(Float)\n",
    "    technical_interview_score = Column(Float)\n",
    "    approved = Column(Boolean, default=False)\n",
    "\n",
    "Base.metadata.create_all(engine)\n",
    "\n",
    "print(\"CONEXION EXITOSA\")\n"
   ]
  },
  {
   "cell_type": "code",
   "execution_count": null,
   "metadata": {},
   "outputs": [
    {
     "name": "stdout",
     "output_type": "stream",
     "text": [
      "Migración completada\n"
     ]
    }
   ],
   "source": [
    "Session = sessionmaker(bind=engine)\n",
    "session = Session()\n",
    "\n",
    "for _, row in df.iterrows():\n",
    "    candidate = Candidate(\n",
    "        country=row[\"Country\"],\n",
    "        application_date=row[\"Application Date\"],\n",
    "        yoe=row[\"YOE\"],\n",
    "        seniority=row[\"Seniority\"],\n",
    "        technology=row[\"Technology\"],\n",
    "        code_challenge_score=row[\"Code Challenge Score\"],\n",
    "        technical_interview_score=row[\"Technical Interview Score\"],\n",
    "        approved=row[\"approved\"]\n",
    "    )\n",
    "    session.add(candidate)\n",
    "\n",
    "\n",
    "session.commit()\n",
    "session.close()\n",
    "print(\"Migración completada\")"
   ]
  }
 ],
 "metadata": {
  "kernelspec": {
   "display_name": ".conda",
   "language": "python",
   "name": "python3"
  },
  "language_info": {
   "codemirror_mode": {
    "name": "ipython",
    "version": 3
   },
   "file_extension": ".py",
   "mimetype": "text/x-python",
   "name": "python",
   "nbconvert_exporter": "python",
   "pygments_lexer": "ipython3",
   "version": "3.11.11"
  }
 },
 "nbformat": 4,
 "nbformat_minor": 2
}
